{
  "nbformat": 4,
  "nbformat_minor": 0,
  "metadata": {
    "colab": {
      "name": "HK Temperature.ipynb",
      "provenance": [],
      "collapsed_sections": [],
      "authorship_tag": "ABX9TyMvxJZ7N1mbzrDyt+9WVfba",
      "include_colab_link": true
    },
    "kernelspec": {
      "name": "python3",
      "display_name": "Python 3"
    },
    "language_info": {
      "name": "python"
    }
  },
  "cells": [
    {
      "cell_type": "markdown",
      "metadata": {
        "id": "view-in-github",
        "colab_type": "text"
      },
      "source": [
        "<a href=\"https://colab.research.google.com/github/ZhangYizhe/PythonForDataAnalysis/blob/main/HK_Temperature.ipynb\" target=\"_parent\"><img src=\"https://colab.research.google.com/assets/colab-badge.svg\" alt=\"Open In Colab\"/></a>"
      ]
    },
    {
      "cell_type": "code",
      "metadata": {
        "id": "e7ualSbZ3wQG"
      },
      "source": [
        "import pandas as pd\n",
        "import numpy as np\n",
        "import matplotlib.pyplot as plt\n",
        "from matplotlib.font_manager import FontProperties\n",
        "\n",
        "cnfont = FontProperties(fname=r'/usr/local/lib/python3.7/dist-packages/matplotlib/mpl-data/fonts/ttf/FangZhengHeiTiJianTi.ttf')"
      ],
      "execution_count": 86,
      "outputs": []
    },
    {
      "cell_type": "code",
      "metadata": {
        "id": "8EJ_wEIfMDsi",
        "colab": {
          "base_uri": "https://localhost:8080/",
          "height": 700
        },
        "outputId": "56e8a027-5bc7-4d6c-e731-be4c079266ab"
      },
      "source": [
        "chineseCalendar = pd.read_csv('/content/二十四节气.csv')\n",
        "# chineseCalendar['Date'] = chineseCalendar['Date'].astype('string')\n",
        "\n",
        "chineseCalendar['month'] = chineseCalendar['Date'].str.replace('月', '/').str.replace('日', '').str.split('/',expand=True)[0]\n",
        "chineseCalendar['day'] = chineseCalendar['Date'].str.replace('月', '/').str.replace('日', '').str.split('/',expand=True)[1]\n",
        "chineseCalendar = chineseCalendar.drop(columns=['Date'])\n",
        "\n",
        "chineseCalendar"
      ],
      "execution_count": 98,
      "outputs": [
        {
          "output_type": "execute_result",
          "data": {
            "text/html": [
              "<div>\n",
              "<style scoped>\n",
              "    .dataframe tbody tr th:only-of-type {\n",
              "        vertical-align: middle;\n",
              "    }\n",
              "\n",
              "    .dataframe tbody tr th {\n",
              "        vertical-align: top;\n",
              "    }\n",
              "\n",
              "    .dataframe thead th {\n",
              "        text-align: right;\n",
              "    }\n",
              "</style>\n",
              "<table border=\"1\" class=\"dataframe\">\n",
              "  <thead>\n",
              "    <tr style=\"text-align: right;\">\n",
              "      <th></th>\n",
              "      <th>Name</th>\n",
              "      <th>month</th>\n",
              "      <th>day</th>\n",
              "    </tr>\n",
              "  </thead>\n",
              "  <tbody>\n",
              "    <tr>\n",
              "      <th>0</th>\n",
              "      <td>立春</td>\n",
              "      <td>2</td>\n",
              "      <td>4</td>\n",
              "    </tr>\n",
              "    <tr>\n",
              "      <th>1</th>\n",
              "      <td>雨水</td>\n",
              "      <td>2</td>\n",
              "      <td>19</td>\n",
              "    </tr>\n",
              "    <tr>\n",
              "      <th>2</th>\n",
              "      <td>驚蟄</td>\n",
              "      <td>3</td>\n",
              "      <td>6</td>\n",
              "    </tr>\n",
              "    <tr>\n",
              "      <th>3</th>\n",
              "      <td>春分</td>\n",
              "      <td>3</td>\n",
              "      <td>21</td>\n",
              "    </tr>\n",
              "    <tr>\n",
              "      <th>4</th>\n",
              "      <td>清明</td>\n",
              "      <td>4</td>\n",
              "      <td>5</td>\n",
              "    </tr>\n",
              "    <tr>\n",
              "      <th>5</th>\n",
              "      <td>穀雨</td>\n",
              "      <td>4</td>\n",
              "      <td>20</td>\n",
              "    </tr>\n",
              "    <tr>\n",
              "      <th>6</th>\n",
              "      <td>立夏</td>\n",
              "      <td>5</td>\n",
              "      <td>6</td>\n",
              "    </tr>\n",
              "    <tr>\n",
              "      <th>7</th>\n",
              "      <td>小滿</td>\n",
              "      <td>5</td>\n",
              "      <td>21</td>\n",
              "    </tr>\n",
              "    <tr>\n",
              "      <th>8</th>\n",
              "      <td>芒種</td>\n",
              "      <td>6</td>\n",
              "      <td>6</td>\n",
              "    </tr>\n",
              "    <tr>\n",
              "      <th>9</th>\n",
              "      <td>夏至</td>\n",
              "      <td>6</td>\n",
              "      <td>21</td>\n",
              "    </tr>\n",
              "    <tr>\n",
              "      <th>10</th>\n",
              "      <td>小暑</td>\n",
              "      <td>7</td>\n",
              "      <td>7</td>\n",
              "    </tr>\n",
              "    <tr>\n",
              "      <th>11</th>\n",
              "      <td>大暑</td>\n",
              "      <td>7</td>\n",
              "      <td>23</td>\n",
              "    </tr>\n",
              "    <tr>\n",
              "      <th>12</th>\n",
              "      <td>立秋</td>\n",
              "      <td>8</td>\n",
              "      <td>8</td>\n",
              "    </tr>\n",
              "    <tr>\n",
              "      <th>13</th>\n",
              "      <td>處暑</td>\n",
              "      <td>8</td>\n",
              "      <td>23</td>\n",
              "    </tr>\n",
              "    <tr>\n",
              "      <th>14</th>\n",
              "      <td>白露</td>\n",
              "      <td>9</td>\n",
              "      <td>8</td>\n",
              "    </tr>\n",
              "    <tr>\n",
              "      <th>15</th>\n",
              "      <td>秋分</td>\n",
              "      <td>9</td>\n",
              "      <td>23</td>\n",
              "    </tr>\n",
              "    <tr>\n",
              "      <th>16</th>\n",
              "      <td>寒露</td>\n",
              "      <td>10</td>\n",
              "      <td>8</td>\n",
              "    </tr>\n",
              "    <tr>\n",
              "      <th>17</th>\n",
              "      <td>霜降</td>\n",
              "      <td>10</td>\n",
              "      <td>23</td>\n",
              "    </tr>\n",
              "    <tr>\n",
              "      <th>18</th>\n",
              "      <td>立冬</td>\n",
              "      <td>11</td>\n",
              "      <td>7</td>\n",
              "    </tr>\n",
              "    <tr>\n",
              "      <th>19</th>\n",
              "      <td>小雪</td>\n",
              "      <td>11</td>\n",
              "      <td>22</td>\n",
              "    </tr>\n",
              "    <tr>\n",
              "      <th>20</th>\n",
              "      <td>大雪</td>\n",
              "      <td>12</td>\n",
              "      <td>7</td>\n",
              "    </tr>\n",
              "  </tbody>\n",
              "</table>\n",
              "</div>"
            ],
            "text/plain": [
              "   Name month day\n",
              "0    立春     2   4\n",
              "1    雨水     2  19\n",
              "2    驚蟄     3   6\n",
              "3    春分     3  21\n",
              "4    清明     4   5\n",
              "5    穀雨     4  20\n",
              "6    立夏     5   6\n",
              "7    小滿     5  21\n",
              "8    芒種     6   6\n",
              "9    夏至     6  21\n",
              "10   小暑     7   7\n",
              "11   大暑     7  23\n",
              "12   立秋     8   8\n",
              "13   處暑     8  23\n",
              "14   白露     9   8\n",
              "15   秋分     9  23\n",
              "16   寒露    10   8\n",
              "17   霜降    10  23\n",
              "18   立冬    11   7\n",
              "19   小雪    11  22\n",
              "20   大雪    12   7"
            ]
          },
          "metadata": {
            "tags": []
          },
          "execution_count": 98
        }
      ]
    },
    {
      "cell_type": "code",
      "metadata": {
        "id": "xGPATVfZJEAA"
      },
      "source": [
        "def getData(url):\n",
        "  df = pd.read_csv(url)\n",
        "  df['年/Year'] = df['年/Year'].astype('string')\n",
        "  df['月/Month'] = df['月/Month'].astype('string')\n",
        "  df['日/Day'] = df['日/Day'].astype('string')\n",
        "  # df['date'] = df['日/Day'] + '/' + df['月/Month'] + '/' + df['年/Year']\n",
        "  # df['date'] = df['date'].astype('object')\n",
        "  # df = df.drop(columns=['年/Year', '月/Month', '日/Day', '數據完整性/data Completeness'])\n",
        "  # df.set_index('date', inplace=True)\n",
        "\n",
        "  df = df.drop(columns=['數據完整性/data Completeness'])\n",
        "  df = df.rename(columns={'年/Year':'year', '月/Month':'month', '日/Day':'day', '數值/Value':'temperature'})\n",
        "  df['temperature'] = df['temperature'].replace('***', np.nan)\n",
        "  df['temperature'] = df['temperature'].astype('float')\n",
        "  df.set_index('year', inplace=True)\n",
        "  return df"
      ],
      "execution_count": 5,
      "outputs": []
    },
    {
      "cell_type": "code",
      "metadata": {
        "id": "0En_UodjBoTT"
      },
      "source": [
        "averageTemperatureDF = getData('/content/CLMTEMP_HKO_.csv')['1980':'2020']\n",
        "lowTemperatureDF = getData('/content/日最低氣溫(攝氏度).csv')['1980':'2020']\n",
        "highTemperatureDF = getData('/content/日最高氣溫(攝氏度) .csv')['1980':'2020']"
      ],
      "execution_count": 6,
      "outputs": []
    },
    {
      "cell_type": "code",
      "metadata": {
        "id": "t3DeCoLmEKJc"
      },
      "source": [
        "totalDF = averageTemperatureDF\n",
        "totalDF = totalDF.rename(columns={'temperature' : 'average'})\n",
        "totalDF['low'] = lowTemperatureDF['temperature']\n",
        "totalDF['high'] = highTemperatureDF['temperature']"
      ],
      "execution_count": 7,
      "outputs": []
    },
    {
      "cell_type": "code",
      "metadata": {
        "id": "AASwiK0JGCKz"
      },
      "source": [
        "def dataProcess(df):\n",
        "  frame = pd.DataFrame()\n",
        "  for ccrow in chineseCalendar.iterrows():\n",
        "    month = ccrow[1]['month']\n",
        "    day = ccrow[1]['day']\n",
        "\n",
        "    row = df.loc[(df['month'] == month) & (df['day'] == day)].copy()\n",
        "    row.reset_index(drop=True, inplace=True)\n",
        "    row['date'] = row['day'] + '/' + row['month']\n",
        "    row = row.drop(columns=['day', 'month', 'low', 'high'])\n",
        "    frame = frame.append(row)\n",
        "  frame.set_index('date', inplace=True)\n",
        "\n",
        "  return frame\n",
        "\n",
        "datas = {}\n",
        "yearRange = range(1980, 2021)\n",
        "for i in yearRange:\n",
        "  year = '{year}'.format(year=i)\n",
        "  processData = dataProcess(totalDF[year:year])\n",
        "  for item in processData.iterrows():\n",
        "    date = item[0]\n",
        "    if date not in datas:\n",
        "      datas[date] = []\n",
        "    datas[date].append(item[1]['average'])\n",
        "\n",
        "datas = pd.DataFrame(datas).T\n",
        "\n",
        "tempIndex = 0\n",
        "years = {}\n",
        "for i in yearRange:\n",
        "  years[tempIndex] = i\n",
        "  tempIndex += 1\n",
        "\n",
        "datas = datas.rename(columns=years)\n",
        "average = datas.loc['7/11'].mean()\n",
        "high = datas.loc['7/11'].max()\n",
        "min = datas.loc['7/11'].min()\n",
        "\n",
        "specialDates = datas.loc['7/11']"
      ],
      "execution_count": 103,
      "outputs": []
    },
    {
      "cell_type": "code",
      "metadata": {
        "colab": {
          "base_uri": "https://localhost:8080/",
          "height": 619
        },
        "id": "X2H1z4LtRvhv",
        "outputId": "4506f99c-b44f-49e8-cb96-03e9ecb08869"
      },
      "source": [
        "fig = plt.figure(figsize=(16,9))\n",
        "plt.axhline(y=average, color='orange', label='Average: {temperature:.1f}C'.format(temperature=average))\n",
        "plt.axhline(y=high, color='red', label='Highest: {temperature:.1f}C'.format(temperature=high))\n",
        "plt.axhline(y=min, color='black', label='Lowest: {temperature:.1f}C'.format(temperature=min))\n",
        "plt.plot(specialDates.index, specialDates.values)\n",
        "fig.suptitle('立冬', fontproperties=cnfont)\n",
        "plt.legend()"
      ],
      "execution_count": 104,
      "outputs": [
        {
          "output_type": "execute_result",
          "data": {
            "text/plain": [
              "<matplotlib.legend.Legend at 0x7ff9c963dd90>"
            ]
          },
          "metadata": {
            "tags": []
          },
          "execution_count": 104
        },
        {
          "output_type": "display_data",
          "data": {
            "image/png": "[encoded data removed]",
            "text/plain": [
              "<Figure size 1152x648 with 1 Axes>"
            ]
          },
          "metadata": {
            "tags": [],
            "needs_background": "light"
          }
        }
      ]
    },
    {
      "cell_type": "code",
      "metadata": {
        "id": "-WFX13naF7s3"
      },
      "source": [
        ""
      ],
      "execution_count": null,
      "outputs": []
    }
  ]
}